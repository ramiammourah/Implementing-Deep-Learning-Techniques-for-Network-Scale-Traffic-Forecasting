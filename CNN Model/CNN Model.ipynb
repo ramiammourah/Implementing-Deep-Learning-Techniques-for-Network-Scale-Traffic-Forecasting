{
 "cells": [
  {
   "cell_type": "markdown",
   "metadata": {},
   "source": [
    "# Convolutional Neural Network Model"
   ]
  },
  {
   "cell_type": "markdown",
   "metadata": {},
   "source": [
    "## 1-  Importing Required Libraries"
   ]
  },
  {
   "cell_type": "code",
   "execution_count": 1,
   "metadata": {},
   "outputs": [
    {
     "name": "stderr",
     "output_type": "stream",
     "text": [
      "c:\\users\\reese\\appdata\\local\\programs\\python\\python36\\lib\\site-packages\\h5py\\__init__.py:36: FutureWarning: Conversion of the second argument of issubdtype from `float` to `np.floating` is deprecated. In future, it will be treated as `np.float64 == np.dtype(float).type`.\n",
      "  from ._conv import register_converters as _register_converters\n"
     ]
    }
   ],
   "source": [
    "# Importing Required Libraries\n",
    "import csv\n",
    "import ast\n",
    "import folium\n",
    "import numpy as np\n",
    "import pandas as pd\n",
    "import datetime\n",
    "import math\n",
    "\n",
    "import h5py\n",
    "import matplotlib.pyplot as plt\n",
    "from pylab import rcParams\n",
    "import scipy\n",
    "#from PIL import Image\n",
    "from scipy import ndimage\n",
    "import tensorflow as tf\n",
    "from tensorflow.python.framework import ops\n",
    "from cnn_utils import *                             # Required to run CNN model\n",
    "from sklearn.model_selection import train_test_split\n",
    "\n",
    "%matplotlib inline\n"
   ]
  },
  {
   "cell_type": "markdown",
   "metadata": {},
   "source": [
    "## 2 - Loading All Arranged Data (Years 2013-2011)"
   ]
  },
  {
   "cell_type": "code",
   "execution_count": 2,
   "metadata": {},
   "outputs": [],
   "source": [
    "# Importing the 2013 Data to merge with the 2012 Data\n",
    "from numpy import genfromtxt\n",
    "\n",
    "Features_13_12_11 = genfromtxt('All Features (13-12-11).csv', delimiter=',')\n",
    "Labels_13_12_11 = genfromtxt('All Labels (13-12-11).csv', delimiter=',')"
   ]
  },
  {
   "cell_type": "code",
   "execution_count": 3,
   "metadata": {},
   "outputs": [],
   "source": [
    "# Removing Days, Months and Hours from Data\n",
    "Features_13_12_11 = Features_13_12_11[:,18:]\n",
    "Labels_13_12_11 = Labels_13_12_11[:,3:]"
   ]
  },
  {
   "cell_type": "code",
   "execution_count": 4,
   "metadata": {},
   "outputs": [
    {
     "name": "stderr",
     "output_type": "stream",
     "text": [
      "c:\\users\\reese\\appdata\\local\\programs\\python\\python36\\lib\\site-packages\\ipykernel_launcher.py:3: FutureWarning: pd.rolling_mean is deprecated for ndarrays and will be removed in a future version\n",
      "  This is separate from the ipykernel package so we can avoid doing imports until\n",
      "c:\\users\\reese\\appdata\\local\\programs\\python\\python36\\lib\\site-packages\\ipykernel_launcher.py:5: FutureWarning: pd.rolling_mean is deprecated for ndarrays and will be removed in a future version\n",
      "  \"\"\"\n"
     ]
    }
   ],
   "source": [
    "# Smoothing The Data\n",
    "for i in range(96):\n",
    "    Features_13_12_11[:,i] = pd.rolling_mean(Features_13_12_11[:,i],window=2,min_periods=0)\n",
    "    \n",
    "Labels_13_12_11 = pd.rolling_mean(Labels_13_12_11,window=4,min_periods=0)"
   ]
  },
  {
   "cell_type": "code",
   "execution_count": 5,
   "metadata": {},
   "outputs": [],
   "source": [
    "# Reshaping Data to 3d Form\n",
    "Features_13_12_11 = np.reshape(Features_13_12_11, (26262,16,6))\n",
    "Labels_13_12_11 = np.reshape(Labels_13_12_11, (26262,16))"
   ]
  },
  {
   "cell_type": "code",
   "execution_count": 6,
   "metadata": {},
   "outputs": [],
   "source": [
    "# Creating Train and Test Splits\n",
    "\n",
    "Train_Features,Test_Features,Train_Labels,Test_Labels = train_test_split(Features_13_12_11, Labels_13_12_11, test_size=0.10)\n",
    "\n"
   ]
  },
  {
   "cell_type": "code",
   "execution_count": 7,
   "metadata": {},
   "outputs": [
    {
     "name": "stdout",
     "output_type": "stream",
     "text": [
      "(23635, 16, 6)\n",
      "(23635, 16)\n",
      "(2627, 16, 6)\n",
      "(2627, 16)\n"
     ]
    }
   ],
   "source": [
    "# Checking Shapes of Train-Test Sets\n",
    "print(Train_Features.shape)\n",
    "print(Train_Labels.shape)\n",
    "print(Test_Features.shape)\n",
    "print(Test_Labels.shape)"
   ]
  },
  {
   "cell_type": "markdown",
   "metadata": {},
   "source": [
    "## 3- CNN Model Creation"
   ]
  },
  {
   "cell_type": "code",
   "execution_count": 8,
   "metadata": {},
   "outputs": [],
   "source": [
    "# Creating Placeholders Function\n",
    "\n",
    "def create_placeholders(n_H0, n_W0, n_C0, n_y):\n",
    "\n",
    "    X = tf.placeholder(tf.float32, shape = (None,n_H0,n_W0,n_C0))\n",
    "    Y = tf.placeholder(tf.float32, shape = (None,n_y))\n",
    "    \n",
    "    return X, Y"
   ]
  },
  {
   "cell_type": "code",
   "execution_count": 9,
   "metadata": {},
   "outputs": [
    {
     "name": "stdout",
     "output_type": "stream",
     "text": [
      "X = Tensor(\"Placeholder:0\", shape=(?, 16, 6, 1), dtype=float32)\n",
      "Y = Tensor(\"Placeholder_1:0\", shape=(?, 16), dtype=float32)\n"
     ]
    }
   ],
   "source": [
    "# Creating Placeholders for Sample Data\n",
    "X, Y = create_placeholders(16, 6, 1, 16)\n",
    "print (\"X = \" + str(X))\n",
    "print (\"Y = \" + str(Y))"
   ]
  },
  {
   "cell_type": "code",
   "execution_count": 10,
   "metadata": {},
   "outputs": [],
   "source": [
    "# Initializing Parameters Function\n",
    "\n",
    "def initialize_parameters():\n",
    "\n",
    "            \n",
    "    W1 = tf.get_variable(\"W1\", [3,3,1,16], initializer = tf.contrib.layers.xavier_initializer())\n",
    "    W2 = tf.get_variable(\"W2\", [3,3,16,32], initializer = tf.contrib.layers.xavier_initializer())\n",
    "    W3 = tf.get_variable(\"W3\", [3,3,32,64], initializer = tf.contrib.layers.xavier_initializer())\n",
    "    W4 = tf.get_variable(\"W4\", [3,3,64,32], initializer = tf.contrib.layers.xavier_initializer())\n",
    "    \n",
    "\n",
    "    parameters = {\"W1\": W1,\n",
    "                  \"W2\": W2,\n",
    "                  \"W3\": W3,\n",
    "                  \"W4\": W4}\n",
    "    \n",
    "    return parameters"
   ]
  },
  {
   "cell_type": "code",
   "execution_count": 11,
   "metadata": {},
   "outputs": [
    {
     "name": "stdout",
     "output_type": "stream",
     "text": [
      "W1 = [ 0.01788114 -0.0495061   0.04847084  0.1730976   0.03559376 -0.00648545\n",
      "  0.17577781 -0.01748006  0.18650798  0.1681162  -0.04764318  0.04461554\n",
      "  0.12587313 -0.15268157  0.05394559  0.00563531]\n",
      "W2 = [ 0.03100323 -0.02303635 -0.07884979 -0.0703008  -0.07091525 -0.08550286\n",
      " -0.04693218 -0.07616365 -0.06691978  0.0092072   0.01993916 -0.11553651\n",
      "  0.09607383  0.06925621 -0.05053472  0.06738449 -0.1081709   0.03921606\n",
      "  0.01617806  0.04397178  0.10387816  0.07711308  0.10294542 -0.02738062\n",
      " -0.0015396   0.05035458 -0.06581854  0.02421615 -0.04380249 -0.08378563\n",
      " -0.08835373 -0.05503473]\n",
      "W3 = [-0.01904986  0.0632178  -0.04621403 -0.01197311  0.03416878 -0.04682384\n",
      "  0.01223627  0.05854984  0.07615969  0.00661435  0.07755367 -0.04584116\n",
      " -0.07445272 -0.06684469 -0.06844807 -0.0144411   0.05966587  0.00434253\n",
      "  0.03973158  0.03495058  0.0472265   0.0808694   0.07947103  0.00229862\n",
      " -0.07966858 -0.06294539 -0.04784616  0.00498893 -0.08164768  0.01099666\n",
      " -0.02475731  0.04851136 -0.00419609  0.08085162  0.06254407 -0.04241016\n",
      " -0.0324413  -0.06569044 -0.06824337 -0.05106924  0.0357815  -0.04107213\n",
      " -0.02089089 -0.03280668 -0.04009694  0.05492803 -0.03992377 -0.07052664\n",
      " -0.0103726  -0.08204174 -0.07405512 -0.00788856 -0.04950023 -0.07957536\n",
      "  0.03807209 -0.03649501 -0.01241457 -0.00918096  0.058161   -0.06966186\n",
      " -0.0531524   0.05604597 -0.00215521  0.03273151]\n"
     ]
    }
   ],
   "source": [
    "# Initializing Parameters for Sample Data\n",
    "tf.reset_default_graph()\n",
    "with tf.Session() as sess_test:\n",
    "    parameters = initialize_parameters()\n",
    "    init = tf.global_variables_initializer()\n",
    "    sess_test.run(init)\n",
    "    print(\"W1 = \" + str(parameters[\"W1\"].eval()[0,1,0]))\n",
    "    print(\"W2 = \" + str(parameters[\"W2\"].eval()[0,1,0]))\n",
    "    print(\"W3 = \" + str(parameters[\"W3\"].eval()[0,1,0]))"
   ]
  },
  {
   "cell_type": "code",
   "execution_count": 12,
   "metadata": {},
   "outputs": [],
   "source": [
    "# Forward Propagation Function\n",
    "\n",
    "def forward_propagation(X, parameters):\n",
    "\n",
    "    # Retrieve the parameters from the dictionary \"parameters\" \n",
    "    W1 = parameters['W1']\n",
    "    W2 = parameters['W2']\n",
    "    W3 = parameters['W3']\n",
    "    W4 = parameters['W4']\n",
    "    \n",
    "    # CONV2D: stride of 1, padding 'SAME'\n",
    "    Z1 = tf.nn.conv2d(X,W1, strides = [1,1,1,1], padding = 'SAME')\n",
    "    # RELU\n",
    "    A1 = tf.nn.relu(Z1)\n",
    "    \n",
    "    # CONV2D: filters W2, stride 1, padding 'SAME'\n",
    "    Z2 = tf.nn.conv2d(A1,W2, strides = [1,1,1,1], padding = 'SAME')\n",
    "    # RELU\n",
    "    A2 = tf.nn.relu(Z2)\n",
    "    \n",
    "    # MAXPOOL: window 2x2, stride 2 padding 'SAME'\n",
    "    P1 = tf.nn.max_pool(A2, ksize = [1,2,2,1], strides = [1,2,2,1], padding = 'SAME')\n",
    "    \n",
    "    # CONV2D: filters W3, stride 1, padding 'SAME'\n",
    "    ZX = tf.nn.conv2d(P1,W3,strides=[1,1,1,1],padding='SAME')\n",
    "    # RELU\n",
    "    A3 = tf.nn.relu(ZX)\n",
    "    \n",
    "    # CONV2D: filters W4, stride 1, padding 'SAME'\n",
    "    ZY = tf.nn.conv2d(A3,W4,strides=[1,1,1,1],padding='SAME')\n",
    "    # RELU\n",
    "    A4 = tf.nn.relu(ZY)\n",
    "    \n",
    "    # MAXPOOL: window 2x2, stride 2 padding 'SAME'\n",
    "    P2 = tf.nn.max_pool(A4, ksize = [1,2,2,1], strides = [1,2,2,1], padding = 'SAME')\n",
    "    \n",
    "    # FLATTEN\n",
    "    P2 = tf.contrib.layers.flatten(P2)\n",
    "    \n",
    "    # FULLY-CONNECTED Layer (256 Neurons)\n",
    "    ZZ = tf.contrib.layers.fully_connected(P2, num_outputs=256, activation_fn=None)\n",
    "    \n",
    "    # RELU\n",
    "    A5 = tf.nn.relu(ZZ)\n",
    "\n",
    "    # FULLY-CONNECTED Layer (128 Neurons)\n",
    "    ZXX = tf.contrib.layers.fully_connected(A5 , num_outputs=128, activation_fn=None)\n",
    "\n",
    "    # RELU\n",
    "    A6 = tf.nn.relu(ZXX)\n",
    "    \n",
    "    # Dropout Layer (To Fix Overfitting)\n",
    "    D6 = tf.nn.dropout(A6,0.9)\n",
    "\n",
    "    # FULLY-CONNECTED Layer (16 Neurons to Match Label Output)\n",
    "    Z3 = tf.contrib.layers.fully_connected(D6, num_outputs = 16, activation_fn=None)\n",
    "    \n",
    "\n",
    "   \n",
    "    return Z3"
   ]
  },
  {
   "cell_type": "code",
   "execution_count": 13,
   "metadata": {},
   "outputs": [
    {
     "name": "stdout",
     "output_type": "stream",
     "text": [
      "Z3 = [[-0.01936689  0.00634775  0.00694487 -0.06359305  0.01514322 -0.00138513\n",
      "   0.02805991 -0.0372559   0.00392833 -0.06673275  0.06792603  0.11351185\n",
      "  -0.06017748 -0.03653773  0.00261655 -0.01351479]\n",
      " [ 0.01650564 -0.0144877  -0.04093476 -0.08652934 -0.00765078  0.01684847\n",
      "   0.04322959 -0.0503677   0.04953267 -0.05197486  0.07993738  0.05888886\n",
      "  -0.02883139  0.00325755  0.01977541 -0.02647488]]\n"
     ]
    }
   ],
   "source": [
    "# Forward Propagation on Sample Data\n",
    "tf.reset_default_graph()\n",
    "\n",
    "with tf.Session() as sess:\n",
    "    X, Y = create_placeholders(16, 6, 1, 16)\n",
    "    parameters = initialize_parameters()\n",
    "    Z3 = forward_propagation(X, parameters)\n",
    "    init = tf.global_variables_initializer()\n",
    "    sess.run(init)\n",
    "    a = sess.run(Z3, {X: np.random.randn(2,16,6,1), Y: np.random.randn(2,16)})\n",
    "    print(\"Z3 = \" + str(a))"
   ]
  },
  {
   "cell_type": "code",
   "execution_count": 14,
   "metadata": {},
   "outputs": [],
   "source": [
    "# Compute Cost Function\n",
    "\n",
    "def compute_cost(Z3, Y):\n",
    "\n",
    "    cost = tf.losses.mean_squared_error(\n",
    "    Y,\n",
    "    Z3,\n",
    "    weights=1.0,\n",
    "    scope=None,\n",
    "    loss_collection=tf.GraphKeys.LOSSES,\n",
    ")\n",
    "\n",
    "    return cost"
   ]
  },
  {
   "cell_type": "code",
   "execution_count": 15,
   "metadata": {
    "scrolled": false
   },
   "outputs": [
    {
     "name": "stdout",
     "output_type": "stream",
     "text": [
      "cost = 1.3233454\n"
     ]
    }
   ],
   "source": [
    "# Cost Function Sample Calculation\n",
    "tf.reset_default_graph()\n",
    "\n",
    "with tf.Session() as sess:\n",
    "    #np.random.seed(1)\n",
    "    X, Y = create_placeholders(16, 6, 1, 16)\n",
    "    parameters = initialize_parameters()\n",
    "    Z3 = forward_propagation(X, parameters)\n",
    "    cost = compute_cost(Z3, Y)\n",
    "    init = tf.global_variables_initializer()\n",
    "\n",
    "    sess.run(init)  \n",
    "\n",
    "    a = sess.run(cost, {X: np.random.randn(2,16,6,1), Y: np.random.randn(2,16)})\n",
    "    print(\"cost = \" + str(a))"
   ]
  },
  {
   "cell_type": "code",
   "execution_count": 16,
   "metadata": {},
   "outputs": [
    {
     "name": "stdout",
     "output_type": "stream",
     "text": [
      "(23635, 16, 6, 1)\n",
      "(2627, 16, 6, 1)\n",
      "(23635, 16)\n",
      "(2627, 16)\n"
     ]
    }
   ],
   "source": [
    "# Reshaping Test-Train Sets to Input into CNN Model\n",
    "\n",
    "Train_Features = (np.reshape(Train_Features, (23635,16,6,1)))\n",
    "Test_Features = (np.reshape(Test_Features, (2627,16,6,1)))\n",
    "Train_Labels = (np.reshape(Train_Labels, (23635,16)))\n",
    "Test_Labels = (np.reshape(Test_Labels, (2627,16)))\n",
    "\n",
    "print(np.shape((Train_Features)))\n",
    "print(np.shape((Test_Features)))\n",
    "print(np.shape((Train_Labels)))\n",
    "print(np.shape((Test_Labels)))"
   ]
  },
  {
   "cell_type": "code",
   "execution_count": 17,
   "metadata": {},
   "outputs": [],
   "source": [
    "# Model Function\n",
    "\n",
    "def model(X_train, Y_train, X_test, Y_test, learning_rate = 0.001,\n",
    "          num_epochs = 30, minibatch_size = 128, print_cost = True):\n",
    "   \n",
    "    \n",
    "    ops.reset_default_graph()                         # to be able to rerun the model without overwriting tf variables\n",
    "    (m, n_H0, n_W0,n_C0) = Train_Features.shape   \n",
    "    n_y = Train_Labels.shape[1]                            \n",
    "    costs = []                                        # To keep track of the cost\n",
    "    \n",
    "    # Create Placeholders of the correct shape\n",
    "    X, Y = create_placeholders(n_H0, n_W0, n_C0, n_y)\n",
    "\n",
    "    # Initialize parameters\n",
    "    parameters = initialize_parameters()\n",
    "    \n",
    "    # Forward propagation: Build the forward propagation in the tensorflow graph\n",
    "    Z3 = forward_propagation(X, parameters)\n",
    "    \n",
    "    # Cost function: Add cost function to tensorflow graph\n",
    "    cost = compute_cost(Z3, Y)\n",
    "    \n",
    "    # Backpropagation: Define the tensorflow optimizer. Use an AdamOptimizer that minimizes the cost.\n",
    "    optimizer = tf.train.AdamOptimizer(learning_rate = learning_rate).minimize(cost)\n",
    "    \n",
    "    # Initialize all the variables globally\n",
    "    init = tf.global_variables_initializer()\n",
    "     \n",
    "    # Start the session to compute the tensorflow graph\n",
    "    with tf.Session() as sess:\n",
    "        \n",
    "        # Run the initialization\n",
    "        sess.run(init)\n",
    "        \n",
    "        # Do the training loop\n",
    "        for epoch in range(num_epochs):\n",
    "\n",
    "            minibatch_cost = 0.\n",
    "            num_minibatches = int(m / minibatch_size) # number of minibatches of size minibatch_size in the train set\n",
    "            minibatches = random_mini_batches(X_train, Y_train, minibatch_size)\n",
    "\n",
    "            for minibatch in minibatches:\n",
    "\n",
    "                # Select a minibatch\n",
    "                (minibatch_X, minibatch_Y) = minibatch\n",
    "                # Run the session to execute the optimizer and the cost, the feedict should contain a minibatch for (X,Y).\n",
    "                _ , temp_cost = sess.run([optimizer, cost], feed_dict={X: minibatch_X, Y: minibatch_Y})\n",
    "                \n",
    "                minibatch_cost += temp_cost / num_minibatches\n",
    "                \n",
    "\n",
    "            # Print the cost every epoch\n",
    "            if print_cost == True and epoch % 5 == 0:\n",
    "                print (\"Cost after epoch %i: %f\" % (epoch, minibatch_cost))\n",
    "            if print_cost == True and epoch % 1 == 0:\n",
    "                costs.append(minibatch_cost)\n",
    "        \n",
    "        \n",
    "        # plot the cost\n",
    "        plt.plot(np.squeeze(costs))\n",
    "        plt.ylabel('cost')\n",
    "        plt.xlabel('iterations (per tens)')\n",
    "        plt.title(\"Learning rate =\" + str(learning_rate))\n",
    "        plt.show()\n",
    "        \n",
    "\n",
    "        # Calculating the Accuracy\n",
    "        Accuracy = 100*(1-tf.reduce_mean(tf.abs((Z3-Y)/Y)))\n",
    "\n",
    "        print(\"Train Accuracy = \", (Accuracy).eval({X: X_train, Y: Y_train}))\n",
    "        print(\"Test Accuracy = \", (Accuracy).eval({X: X_test, Y: Y_test}))\n",
    "        \n",
    "        \n",
    "        return  Accuracy, parameters"
   ]
  },
  {
   "cell_type": "markdown",
   "metadata": {},
   "source": [
    "## 4- Model Execution"
   ]
  },
  {
   "cell_type": "code",
   "execution_count": 18,
   "metadata": {},
   "outputs": [
    {
     "name": "stdout",
     "output_type": "stream",
     "text": [
      "Cost after epoch 0: 561.319823\n",
      "Cost after epoch 5: 82.973758\n",
      "Cost after epoch 10: 70.048105\n",
      "Cost after epoch 15: 64.192545\n",
      "Cost after epoch 20: 61.411530\n",
      "Cost after epoch 25: 58.363419\n"
     ]
    },
    {
     "data": {
      "image/png": "[encoded data removed]",
      "text/plain": [
       "<Figure size 432x288 with 1 Axes>"
      ]
     },
     "metadata": {},
     "output_type": "display_data"
    },
    {
     "name": "stdout",
     "output_type": "stream",
     "text": [
      "Train Accuracy =  89.62592\n",
      "Test Accuracy =  89.50814\n"
     ]
    }
   ],
   "source": [
    " Accuracy, parameters = model(Train_Features, Train_Labels, Test_Features, Test_Labels)"
   ]
  },
  {
   "cell_type": "code",
   "execution_count": null,
   "metadata": {},
   "outputs": [],
   "source": []
  },
  {
   "cell_type": "code",
   "execution_count": null,
   "metadata": {},
   "outputs": [],
   "source": []
  },
  {
   "cell_type": "code",
   "execution_count": null,
   "metadata": {},
   "outputs": [],
   "source": []
  }
 ],
 "metadata": {
  "kernelspec": {
   "display_name": "Python 3",
   "language": "python",
   "name": "python3"
  },
  "language_info": {
   "codemirror_mode": {
    "name": "ipython",
    "version": 3
   },
   "file_extension": ".py",
   "mimetype": "text/x-python",
   "name": "python",
   "nbconvert_exporter": "python",
   "pygments_lexer": "ipython3",
   "version": "3.6.4"
  },
  "widgets": {
   "application/vnd.jupyter.widget-state+json": {
    "state": {},
    "version_major": 1,
    "version_minor": 0
   }
  }
 },
 "nbformat": 4,
 "nbformat_minor": 2
}
